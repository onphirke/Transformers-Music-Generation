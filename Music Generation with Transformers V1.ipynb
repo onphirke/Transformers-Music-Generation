{
  "nbformat": 4,
  "nbformat_minor": 0,
  "metadata": {
    "colab": {
      "name": "music gen using Transformer.ipynb",
      "provenance": [],
      "collapsed_sections": []
    },
    "kernelspec": {
      "name": "python3",
      "display_name": "Python 3"
    },
    "language_info": {
      "name": "python"
    }
  },
  "cells": [
    {
      "cell_type": "code",
      "metadata": {
        "colab": {
          "base_uri": "https://localhost:8080/"
        },
        "id": "A1QlWkxkw1QU",
        "outputId": "a5bf6e89-1b03-425e-ef96-7e32876d6c4b"
      },
      "source": [
        "from google.colab import drive\n",
        "drive.mount('/content/drive')"
      ],
      "execution_count": null,
      "outputs": [
        {
          "output_type": "stream",
          "text": [
            "Mounted at /content/drive\n"
          ],
          "name": "stdout"
        }
      ]
    },
    {
      "cell_type": "code",
      "metadata": {
        "colab": {
          "base_uri": "https://localhost:8080/"
        },
        "id": "Hk7e76C9USFY",
        "outputId": "7bbcdeee-ee06-4958-ee75-c09c66665aaf"
      },
      "source": [
        "!pip install pretty_midi"
      ],
      "execution_count": null,
      "outputs": [
        {
          "output_type": "stream",
          "text": [
            "Collecting pretty_midi\n",
            "  Downloading pretty_midi-0.2.9.tar.gz (5.6 MB)\n",
            "\u001b[K     |████████████████████████████████| 5.6 MB 4.4 MB/s \n",
            "\u001b[?25hRequirement already satisfied: numpy>=1.7.0 in /usr/local/lib/python3.7/dist-packages (from pretty_midi) (1.19.5)\n",
            "Collecting mido>=1.1.16\n",
            "  Downloading mido-1.2.10-py2.py3-none-any.whl (51 kB)\n",
            "\u001b[K     |████████████████████████████████| 51 kB 7.9 MB/s \n",
            "\u001b[?25hRequirement already satisfied: six in /usr/local/lib/python3.7/dist-packages (from pretty_midi) (1.15.0)\n",
            "Building wheels for collected packages: pretty-midi\n",
            "  Building wheel for pretty-midi (setup.py) ... \u001b[?25l\u001b[?25hdone\n",
            "  Created wheel for pretty-midi: filename=pretty_midi-0.2.9-py3-none-any.whl size=5591953 sha256=eab2cc93d42b2820bde73d6594abefb939f6d591907a20975176246743864a99\n",
            "  Stored in directory: /root/.cache/pip/wheels/ad/74/7c/a06473ca8dcb63efb98c1e67667ce39d52100f837835ea18fa\n",
            "Successfully built pretty-midi\n",
            "Installing collected packages: mido, pretty-midi\n",
            "Successfully installed mido-1.2.10 pretty-midi-0.2.9\n"
          ],
          "name": "stdout"
        }
      ]
    },
    {
      "cell_type": "code",
      "metadata": {
        "id": "Mv649gEYCTfW",
        "colab": {
          "base_uri": "https://localhost:8080/"
        },
        "outputId": "570ccbd2-4289-421c-d67f-c0d715341baa"
      },
      "source": [
        "import os\n",
        "import numpy as np\n",
        "import json\n",
        "import tensorflow as tf\n",
        "from tensorflow.keras import layers, regularizers, models\n",
        "import pretty_midi as pm\n",
        "from PIL import Image\n",
        "import matplotlib.pyplot as plt\n",
        "\n",
        "import time\n",
        "import logging\n",
        "import pathlib\n",
        "from tqdm.autonotebook import tqdm\n",
        "import pandas as pd\n",
        "\n",
        "from IPython import display"
      ],
      "execution_count": null,
      "outputs": [
        {
          "output_type": "stream",
          "text": [
            "/usr/local/lib/python3.7/dist-packages/ipykernel_launcher.py:13: TqdmExperimentalWarning: Using `tqdm.autonotebook.tqdm` in notebook mode. Use `tqdm.tqdm` instead to force console mode (e.g. in jupyter console)\n",
            "  del sys.path[0]\n"
          ],
          "name": "stderr"
        }
      ]
    },
    {
      "cell_type": "code",
      "metadata": {
        "colab": {
          "base_uri": "https://localhost:8080/",
          "height": 35
        },
        "id": "QlXpWlBQ1N9q",
        "outputId": "09bb8e4b-87f5-47aa-c8ac-660b5e202357"
      },
      "source": [
        "tf.version.VERSION"
      ],
      "execution_count": null,
      "outputs": [
        {
          "output_type": "execute_result",
          "data": {
            "application/vnd.google.colaboratory.intrinsic+json": {
              "type": "string"
            },
            "text/plain": [
              "'2.6.0'"
            ]
          },
          "metadata": {},
          "execution_count": 4
        }
      ]
    },
    {
      "cell_type": "code",
      "metadata": {
        "id": "x-41muqk1OYp"
      },
      "source": [
        "logging.getLogger('tensorflow').setLevel(logging.ERROR)  # suppress warnings"
      ],
      "execution_count": null,
      "outputs": []
    },
    {
      "cell_type": "code",
      "metadata": {
        "id": "ZT4GDx-DExfv"
      },
      "source": [
        "path = '/content/drive/MyDrive/maestro-v3.0.0-midi/maestro-v3.0.0/2018'\n",
        "\n",
        "os.chdir(path)\n",
        "midi_paths = []\n",
        "for fn in os.listdir():\n",
        "  midi_paths.append(path+'/'+fn)"
      ],
      "execution_count": null,
      "outputs": []
    },
    {
      "cell_type": "code",
      "metadata": {
        "id": "8d9d9EM-JKYz"
      },
      "source": [
        "new_dir = '/content/drive/MyDrive/maestro_midi_images/'"
      ],
      "execution_count": null,
      "outputs": []
    },
    {
      "cell_type": "code",
      "metadata": {
        "colab": {
          "base_uri": "https://localhost:8080/"
        },
        "id": "tSc4-Gb613z3",
        "outputId": "4ebf1c2b-c5b5-47e7-e29c-1661fcd1c195"
      },
      "source": [
        "FS = 10\n",
        "min_note = 21\n",
        "max_note = 101\n",
        "img_dims = max_note - min_note\n",
        "\n",
        "img_dims"
      ],
      "execution_count": null,
      "outputs": [
        {
          "output_type": "execute_result",
          "data": {
            "text/plain": [
              "80"
            ]
          },
          "metadata": {},
          "execution_count": 7
        }
      ]
    },
    {
      "cell_type": "code",
      "metadata": {
        "id": "5GNaIseQUajT"
      },
      "source": [
        "def midi2proll(filename):\n",
        "  midi_pretty_format = pm.PrettyMIDI(filename)\n",
        "  midi_piano = midi_pretty_format.instruments[0]\n",
        "  midi_piano_roll = midi_piano.get_piano_roll(fs=FS)\n",
        "  return midi_piano_roll[:80] # returns piano roll in format (128 notes, time)\n",
        "\n",
        "def proll2img(proll, show=False):\n",
        "  im = Image.fromarray(np.uint8(proll))\n",
        "  if show:\n",
        "    plt.imshow(np.asarray(im), aspect='auto', cmap='gray')\n",
        "  return im\n",
        "\n",
        "\n",
        "def proll2notelist(proll):\n",
        "  pnotelist = []\n",
        "  for t, tarr in enumerate(np.transpose(proll)):\n",
        "    pnotelist.append([])\n",
        "    for n, val in enumerate(tarr):\n",
        "      if(val > 0):\n",
        "        pnotelist[t].append(str(n))          \n",
        "  return pnotelist"
      ],
      "execution_count": null,
      "outputs": []
    },
    {
      "cell_type": "code",
      "metadata": {
        "colab": {
          "base_uri": "https://localhost:8080/",
          "height": 267
        },
        "id": "sYbgj0sLgky4",
        "outputId": "e657d5cb-4cfe-4207-d888-39eabafac6e1"
      },
      "source": [
        "def reorganize(proll):\n",
        "  proll = proll[min_note:max_note]\n",
        "  chops = np.asarray(np.arange(img_dims, len(proll[0]), img_dims))\n",
        "  proll_chunks = np.split(proll, chops, axis=1)\n",
        "  return proll_chunks[:-1]\n",
        "\n",
        "def reorganize_all(filepaths):\n",
        "  all_proll_chunks = []\n",
        "  for fp in filepaths:\n",
        "    all_proll_chunks.append(reorganize(midi2proll(fp)))\n",
        "  all_proll_chunks = np.concatenate(all_proll_chunks, axis=0)\n",
        "  return all_proll_chunks\n",
        "\n",
        "proll = midi2proll(midi_paths[7])\n",
        "proll_chunks = reorganize(proll)\n",
        "proll_chunks += tf.random.normal(tf.shape(proll_chunks), stddev=0.2)\n",
        "img = proll2img(proll_chunks[5], show=True)"
      ],
      "execution_count": null,
      "outputs": [
        {
          "output_type": "display_data",
          "data": {
            "image/png": "[encoded data removed]",
            "text/plain": [
              "<Figure size 432x288 with 1 Axes>"
            ]
          },
          "metadata": {
            "needs_background": "light"
          }
        }
      ]
    },
    {
      "cell_type": "code",
      "metadata": {
        "colab": {
          "base_uri": "https://localhost:8080/",
          "height": 268
        },
        "id": "7CI2WjjwzEdt",
        "outputId": "fe83da75-e85a-4fc6-9f21-c471c86738d7"
      },
      "source": [
        "proll = midi2proll('/content/drive/MyDrive/maestro_midi_images/44/4.mid')\n",
        "img = proll2img(proll, show=True)"
      ],
      "execution_count": null,
      "outputs": [
        {
          "output_type": "display_data",
          "data": {
            "image/png": "[encoded data removed]",
            "text/plain": [
              "<Figure size 432x288 with 1 Axes>"
            ]
          },
          "metadata": {
            "needs_background": "light"
          }
        }
      ]
    },
    {
      "cell_type": "code",
      "metadata": {
        "colab": {
          "base_uri": "https://localhost:8080/",
          "height": 411
        },
        "id": "133iSvAyKhBj",
        "outputId": "aa410432-75c8-46a2-d1ef-e20554bc4710"
      },
      "source": [
        "f, axs = plt.subplots(5,5,figsize=(7,7))\n",
        "\n",
        "start = len(os.listdir('/content/drive/MyDrive/maestro_midi_images/')) - 5\n",
        "\n",
        "# bottom is the newest\n",
        "\n",
        "for r, arr in enumerate(axs):\n",
        "  for c, _ in enumerate(arr):\n",
        "    proll = midi2proll(f'/content/drive/MyDrive/maestro_midi_images/{start + r}/{c}.mid')\n",
        "    img = proll2img(proll)\n",
        "    axs[r][c].imshow(np.asarray(img), aspect='auto', cmap='gray')\n",
        "    axs[r][c].axis('off')"
      ],
      "execution_count": null,
      "outputs": [
        {
          "output_type": "display_data",
          "data": {
            "image/png": "[encoded data removed]",
            "text/plain": [
              "<Figure size 504x504 with 25 Axes>"
            ]
          },
          "metadata": {
            "needs_background": "light"
          }
        }
      ]
    },
    {
      "cell_type": "code",
      "metadata": {
        "id": "D0lvlECwu7JQ"
      },
      "source": [
        "def transform_pnotelist(pnotelist):\n",
        "  transformed_pnotelist = []\n",
        "  for notes in pnotelist:\n",
        "    transformed_pnotelist.append(','.join(notes))\n",
        "  return np.asarray(transformed_pnotelist)\n",
        "\n",
        "def chop(arr, chop_size):\n",
        "  chops = np.asarray(np.arange(chop_size, len(arr), chop_size))\n",
        "  chunks = np.split(arr, chops, axis=0)\n",
        "  return chunks[:-1]\n",
        "\n",
        "def get_all_sequences(filepaths, chop_size=101):\n",
        "  all_seq = []\n",
        "  for fp in filepaths:\n",
        "    chunks = chop(transform_pnotelist(proll2notelist(midi2proll(fp))), chop_size)\n",
        "    all_seq.extend(chunks)\n",
        "  all_seq = np.asarray(all_seq)\n",
        "  return all_seq\n",
        "\n",
        "def pad_array(arr, target_length):\n",
        "  if target_length < np.shape(arr)[0]:\n",
        "    return arr[:target_length]\n",
        "  padding = np.full((target_length - np.shape(arr)[0],), '')\n",
        "  return np.concatenate([arr, padding])"
      ],
      "execution_count": null,
      "outputs": []
    },
    {
      "cell_type": "code",
      "metadata": {
        "id": "bIf_MLl-8S3p"
      },
      "source": [
        "all_seq = get_all_sequences(midi_paths[:32])\n",
        "musical_corpus = np.concatenate(all_seq)"
      ],
      "execution_count": null,
      "outputs": []
    },
    {
      "cell_type": "code",
      "metadata": {
        "colab": {
          "base_uri": "https://localhost:8080/"
        },
        "id": "LTfxEvhT_SZI",
        "outputId": "6add6b7a-c3f7-4cfc-9a21-3a21e00509c4"
      },
      "source": [
        "print(len(all_seq))\n",
        "all_seq"
      ],
      "execution_count": null,
      "outputs": [
        {
          "output_type": "stream",
          "text": [
            "2959\n"
          ],
          "name": "stdout"
        },
        {
          "output_type": "execute_result",
          "data": {
            "text/plain": [
              "array([['', '', '', ..., '57,66', '57,66', '57,66,69'],\n",
              "       ['57,66,69', '57,66,69', '57,66,69', ..., '62,66,69', '62,78',\n",
              "        '62,66,78'],\n",
              "       ['62,78', '62,69,78', '62,69,78', ..., '', '50', '50'],\n",
              "       ...,\n",
              "       ['39,51,72,79', '39,51,60,63,72,79', '39,51,60,63,72,79', ...,\n",
              "        '44,51,55,74,75', '44,51,55,74,75', ''],\n",
              "       ['44,79', '', '', ..., '51', '60,63', '51,60,63'],\n",
              "       ['51,56,60,63', '51,56,59,60,62,63,65', '51,56,59,60,62,63,65',\n",
              "        ..., '32,39,44,51,56,60,68,70,72', '32,39,44,51,56,60,68,70,72',\n",
              "        '32,39,44,51,56,60,68,70,72']], dtype='<U122')"
            ]
          },
          "metadata": {},
          "execution_count": 16
        }
      ]
    },
    {
      "cell_type": "code",
      "metadata": {
        "colab": {
          "base_uri": "https://localhost:8080/"
        },
        "id": "gUW94ud6AhfH",
        "outputId": "6fa4d7ee-0929-47d2-adeb-814d7831961d"
      },
      "source": [
        "vocab_size = np.shape(np.unique(musical_corpus))[0]\n",
        "vocab_size"
      ],
      "execution_count": null,
      "outputs": [
        {
          "output_type": "execute_result",
          "data": {
            "text/plain": [
              "44062"
            ]
          },
          "metadata": {},
          "execution_count": 17
        }
      ]
    },
    {
      "cell_type": "code",
      "metadata": {
        "id": "ztb0FryqLLB4"
      },
      "source": [
        "vectorize_layer = layers.TextVectorization(standardize=None, split=None)\n",
        "vectorize_layer.adapt(musical_corpus)"
      ],
      "execution_count": null,
      "outputs": []
    },
    {
      "cell_type": "code",
      "metadata": {
        "id": "U3C7GNehQL9S"
      },
      "source": [
        "all_seq_vectorized = vectorize_layer(all_seq)"
      ],
      "execution_count": null,
      "outputs": []
    },
    {
      "cell_type": "code",
      "metadata": {
        "id": "PeF0LiRTBOgm"
      },
      "source": [
        "def data_target_split(all_seq):\n",
        "  return all_seq[:, :-1], all_seq[:, 1:]"
      ],
      "execution_count": null,
      "outputs": []
    },
    {
      "cell_type": "code",
      "metadata": {
        "id": "fLgLhiCFBgEe"
      },
      "source": [
        "train_data, train_target = data_target_split(all_seq_vectorized)"
      ],
      "execution_count": null,
      "outputs": []
    },
    {
      "cell_type": "code",
      "metadata": {
        "id": "C-Y5ujtS_c6o"
      },
      "source": [
        "TOTAL_SIZE = np.shape(train_data)[0]\n",
        "BATCH_SIZE = 32\n",
        "N_TRAIN_BATCHES = int(TOTAL_SIZE/BATCH_SIZE)\n",
        "N_TEST_BATCHES = N_TRAIN_BATCHES"
      ],
      "execution_count": null,
      "outputs": []
    },
    {
      "cell_type": "code",
      "metadata": {
        "id": "2VwLuTz3_98S"
      },
      "source": [
        "train_dataset = (\n",
        "    tf.data.Dataset.from_tensor_slices((train_data, train_target))\n",
        "    .cache()\n",
        "    .shuffle(10000)\n",
        "    .batch(BATCH_SIZE)\n",
        "    .prefetch(tf.data.AUTOTUNE)\n",
        ")\n",
        "\n",
        "test_dataset = train_dataset"
      ],
      "execution_count": null,
      "outputs": []
    },
    {
      "cell_type": "markdown",
      "metadata": {
        "id": "sK27x4AD1vyQ"
      },
      "source": [
        "# Model"
      ]
    },
    {
      "cell_type": "code",
      "metadata": {
        "id": "CmWPYTnZ0ldW"
      },
      "source": [
        "padding_value = -1"
      ],
      "execution_count": null,
      "outputs": []
    },
    {
      "cell_type": "code",
      "metadata": {
        "id": "Ar7OAgnmgyfK"
      },
      "source": [
        "def get_angles(pos, i, e_dim):\n",
        "  angles = pos / (np.power(10000, (2 * (i//2) / np.float(e_dim))))\n",
        "  return angles\n",
        "\n",
        "def positional_encoding(position, e_dim):\n",
        "  angles = get_angles(np.arange(position)[:, np.newaxis],\n",
        "                      np.arange(e_dim)[np.newaxis, :],\n",
        "                      e_dim)\n",
        "  angles[:, 0::2] = np.sin(angles[:, 0::2])\n",
        "  angles[:, 1::2] = np.cos(angles[:, 1::2])\n",
        "\n",
        "  pos_encoding = angles[np.newaxis, ...]\n",
        "  return tf.cast(pos_encoding, dtype=tf.float32)"
      ],
      "execution_count": null,
      "outputs": []
    },
    {
      "cell_type": "code",
      "metadata": {
        "id": "c-70oHPnkdei"
      },
      "source": [
        "def create_padding_mask(seq):\n",
        "  seq = tf.cast(tf.math.equal(seq, padding_value), tf.float32)\n",
        "  return seq[:, tf.newaxis, tf.newaxis, :] # (batch_size, 1, 1, seq_len)\n",
        "\n",
        "def create_look_ahead_mask(size):\n",
        "  mask = 1 - tf.linalg.band_part(tf.ones((size, size)), -1, 0)\n",
        "  return mask"
      ],
      "execution_count": null,
      "outputs": []
    },
    {
      "cell_type": "code",
      "metadata": {
        "id": "lfvluOdG_nm7"
      },
      "source": [
        "def scaled_dot_product_attention(q, v, k, mask):\n",
        "  qk = tf.matmul(q, k, transpose_b=True)\n",
        "  \n",
        "  scale_factor = tf.math.sqrt(tf.cast(tf.shape(k)[-1], tf.float32))\n",
        "  scaled_logits = qk / scale_factor\n",
        "  \n",
        "  if mask is not None:\n",
        "    scaled_logits += (mask * -1e9)\n",
        "\n",
        "  attention_weights = tf.nn.softmax(scaled_logits, axis=-1)\n",
        "  output = tf.matmul(attention_weights, v)\n",
        "\n",
        "  return output, attention_weights\n",
        "\n",
        "class MultiHeadAttention(layers.Layer):\n",
        "  def __init__(self, e_dim, num_heads, **kwargs):\n",
        "    super(MultiHeadAttention, self).__init__(**kwargs)\n",
        "    self.num_heads = num_heads\n",
        "    self.e_dim = e_dim # dimension of the embeddings\n",
        "\n",
        "    # input dims  (batch_size, sequence_len, embed_dim)\n",
        "\n",
        "    assert e_dim % num_heads == 0\n",
        "\n",
        "    self.depth = e_dim // num_heads\n",
        "\n",
        "    self.wq = layers.Dense(e_dim)\n",
        "    self.wv = layers.Dense(e_dim)\n",
        "    self.wk = layers.Dense(e_dim)\n",
        "\n",
        "    self.dense = layers.Dense(e_dim)\n",
        "\n",
        "  def split_heads(self, x, batch_size):\n",
        "    x = tf.reshape(x, (batch_size, -1, self.num_heads, self.depth))\n",
        "    x = tf.transpose(x, perm=[0, 2, 1, 3])\n",
        "    return x\n",
        "\n",
        "  def call(self, q, v, k, mask):\n",
        "    batch_size = tf.shape(q)[0]\n",
        "    \n",
        "    q = self.wq(q) # (batch_size, sequence_len, embed_dim)\n",
        "    v = self.wv(v) # (batch_size, sequence_len, embed_dim)\n",
        "    k = self.wk(k) # (batch_size, sequence_len, embed_dim)\n",
        "    \n",
        "    q = self.split_heads(q, batch_size) # (batch_size, num_heads, sequence_len_q, depth)\n",
        "    v = self.split_heads(v, batch_size) # (batch_size, num_heads, sequence_len_v, depth)\n",
        "    k = self.split_heads(k, batch_size) # (batch_size, num_heads, sequence_len_k, depth)\n",
        "\n",
        "    # att.    (batch_size, num_heads, sequence_len_q, depth)\n",
        "    # att. w  (batch_size, num_heads, sequence_len_q, sequence_len_k)\n",
        "    attention, attention_weights = scaled_dot_product_attention(q, v, k, mask)\n",
        "\n",
        "    attention = tf.transpose(attention, perm=[0, 2, 1, 3]) # (batch_size, sequence_len_q, num_heads, depth)\n",
        "    concat_attention = tf.reshape(attention, (batch_size, -1, self.e_dim)) # (batch_size, sequence_len_q, embed_dim)\n",
        "    \n",
        "    output = self.dense(concat_attention) # (batch_size, sequence_len_q, embed_dim)\n",
        "\n",
        "    return output, attention_weights\n",
        "\n",
        "def pwffn(e_dim, dff):\n",
        "  return models.Sequential(\n",
        "      [\n",
        "       layers.Dense(dff, activation='relu'), # (batch_size, seq_len, dff)\n",
        "       layers.Dense(e_dim) # (batch_size, seq_len, embed_dim)\n",
        "      ]\n",
        "  )"
      ],
      "execution_count": null,
      "outputs": []
    },
    {
      "cell_type": "code",
      "metadata": {
        "id": "i9cSHUDemhLj"
      },
      "source": [
        "class EncoderLayer(layers.Layer):\n",
        "  def __init__(self, e_dim, num_heads, dff, dropout_rate=0.1):\n",
        "    super(EncoderLayer, self).__init__()\n",
        "    \n",
        "    self.mha = MultiHeadAttention(e_dim, num_heads)\n",
        "    self.ffn = pwffn(e_dim, dff)\n",
        "\n",
        "    self.norm1 = layers.LayerNormalization(epsilon=1e-6)\n",
        "    self.norm2 = layers.LayerNormalization(epsilon=1e-6)\n",
        "\n",
        "    self.dropout1 = layers.Dropout(rate=dropout_rate)\n",
        "    self.dropout2 = layers.Dropout(rate=dropout_rate)\n",
        "  \n",
        "  def call(self, x, training, mask):\n",
        "\n",
        "    o1, _ = self.mha(x, x, x, mask)\n",
        "    o1 = self.dropout1(o1, training=training)\n",
        "    o1 = self.norm1(x + o1)\n",
        "\n",
        "    o2 = self.ffn(o1)\n",
        "    o2 = self.dropout2(o2, training=training)\n",
        "    o2 = self.norm2(o1 + o2)\n",
        "    return o2\n",
        "\n",
        "class DecoderLayer(layers.Layer):\n",
        "  def __init__(self, e_dim, num_heads, dff, dropout_rate=0.1):\n",
        "    super(DecoderLayer, self).__init__()\n",
        "    \n",
        "    self.mha1 = MultiHeadAttention(e_dim, num_heads)\n",
        "    self.mha2 = MultiHeadAttention(e_dim, num_heads)\n",
        "    self.ffn = pwffn(e_dim, dff)\n",
        "\n",
        "    self.norm1 = layers.LayerNormalization(epsilon=1e-6)\n",
        "    self.norm2 = layers.LayerNormalization(epsilon=1e-6)\n",
        "    self.norm3 = layers.LayerNormalization(epsilon=1e-6)\n",
        "\n",
        "    self.dropout1 = layers.Dropout(rate=dropout_rate)\n",
        "    self.dropout2 = layers.Dropout(rate=dropout_rate)\n",
        "    self.dropout3 = layers.Dropout(rate=dropout_rate)\n",
        "  \n",
        "  def call(self, x, encoder_output, training, look_ahead_mask, padding_mask):\n",
        "    o1, att_w_block1 = self.mha1(x, x, x, look_ahead_mask)\n",
        "    o1 = self.dropout1(o1, training=training)\n",
        "    o1 = self.norm1(x + o1)\n",
        "    \n",
        "    o2, att_w_block2 = self.mha2(o1, encoder_output, encoder_output, padding_mask)\n",
        "    o2 = self.dropout2(o2, training=training)\n",
        "    o2 = self.norm2(o1 + o2)\n",
        "\n",
        "    o3 = self.ffn(o2)\n",
        "    o3 = self.dropout3(o3, training=training)\n",
        "    o3 = self.norm3(o2 + o3)\n",
        "    return o3, att_w_block1, att_w_block2"
      ],
      "execution_count": null,
      "outputs": []
    },
    {
      "cell_type": "code",
      "metadata": {
        "id": "bAwVZRjPpkvq"
      },
      "source": [
        "class Encoder(layers.Layer):\n",
        "  def __init__(self, num_layers, e_dim, num_heads, dff, input_vocab_size, max_pos_enc, dropout_rate=0.1):\n",
        "    super(Encoder, self).__init__()\n",
        "\n",
        "    self.e_dim = e_dim\n",
        "    self.num_layers = num_layers\n",
        "\n",
        "    self.embedding = layers.Embedding(input_vocab_size, e_dim)\n",
        "    self.pos_enc = positional_encoding(max_pos_enc, e_dim)\n",
        "\n",
        "    self.enc_layers = [EncoderLayer(e_dim, num_heads, dff, dropout_rate) for _ in range(num_layers)]\n",
        "    self.dropout = layers.Dropout(dropout_rate)\n",
        "\n",
        "  def call(self, x, training, mask):\n",
        "    seq_len = tf.shape(x)[1]\n",
        "\n",
        "    x = self.embedding(x) # (batch_size, input_seq_len, e_dim)\n",
        "    x *= tf.math.sqrt(tf.cast(self.e_dim, tf.float32))\n",
        "    x += self.pos_enc[:, :seq_len, :]\n",
        "\n",
        "    x = self.dropout(x, training=training)\n",
        "\n",
        "    for el in self.enc_layers:\n",
        "      x = el(x, training, mask)\n",
        "\n",
        "    return x # (batch_size, input_seq_len, e_dim)\n",
        "\n",
        "\n",
        "class Decoder(layers.Layer):\n",
        "  def __init__(self, num_layers, e_dim, num_heads, dff, target_vocab_size, max_pos_enc, dropout_rate=0.1):\n",
        "    super(Decoder, self).__init__()\n",
        "\n",
        "    self.e_dim = e_dim\n",
        "    self.num_layers = num_layers\n",
        "\n",
        "    self.embedding = layers.Embedding(target_vocab_size, e_dim)\n",
        "    self.pos_enc = positional_encoding(max_pos_enc, e_dim)\n",
        "\n",
        "    self.dec_layers = [DecoderLayer(e_dim, num_heads, dff, dropout_rate) for _ in range(num_layers)]\n",
        "    self.dropout = layers.Dropout(dropout_rate)\n",
        "\n",
        "  def call(self, x, encoder_output, training, look_ahead_mask, padding_mask):\n",
        "    seq_len = tf.shape(x)[1]\n",
        "    attention_weights = {}\n",
        "\n",
        "    x = self.embedding(x) # (batch_size, target_seq_len, e_dim)\n",
        "    x *= tf.math.sqrt(tf.cast(self.e_dim, tf.float32))\n",
        "    x += self.pos_enc[:, :seq_len, :]\n",
        "\n",
        "    x = self.dropout(x, training=training)\n",
        "\n",
        "    for i, dl in enumerate(self.dec_layers):\n",
        "      x, block1, block2 = dl(x, encoder_output, training, look_ahead_mask, padding_mask)\n",
        "      attention_weights[f'decoder_layer{i+1}_block1'] = block1\n",
        "      attention_weights[f'decoder_layer{i+1}_block2'] = block2\n",
        "\n",
        "    return x, attention_weights # x --> (batch_size, target_seq_len, e_dim)\n"
      ],
      "execution_count": null,
      "outputs": []
    },
    {
      "cell_type": "code",
      "metadata": {
        "id": "B87NhNnu0Zkr"
      },
      "source": [
        "class Transformer(models.Model):\n",
        "  def __init__(self, vectorize_layer, num_layers, e_dim, num_heads, dff, input_vocab_size, target_vocab_size, pe_input, pe_target, dropout_rate=0.1):\n",
        "    super(Transformer, self).__init__()\n",
        "\n",
        "    self.encoder = Encoder(num_layers, e_dim, num_heads, dff, input_vocab_size, pe_input, dropout_rate)\n",
        "    self.decoder = Decoder(num_layers, e_dim, num_heads, dff, target_vocab_size, pe_target, dropout_rate)\n",
        "\n",
        "    self.final_layer = layers.Dense(target_vocab_size)\n",
        "\n",
        "  def call(self, inp, tar, training, enc_padding_mask, look_ahead_mask, dec_padding_mask):\n",
        "    enc_out = self.encoder(inp, training, enc_padding_mask)\n",
        "    dec_out, attn_weights = self.decoder(tar, enc_out, training, look_ahead_mask, dec_padding_mask)\n",
        "    output = self.final_layer(dec_out)\n",
        "    return output, attn_weights"
      ],
      "execution_count": null,
      "outputs": []
    },
    {
      "cell_type": "markdown",
      "metadata": {
        "id": "R71BIDO_21j0"
      },
      "source": [
        "## Hyperparams, Optimization, and Loss "
      ]
    },
    {
      "cell_type": "code",
      "metadata": {
        "id": "Jic3tt8C2oRz"
      },
      "source": [
        "num_layers = 3\n",
        "e_dim = 256\n",
        "dff = 512\n",
        "num_heads = 8\n",
        "dropout_rate = 0.1"
      ],
      "execution_count": null,
      "outputs": []
    },
    {
      "cell_type": "code",
      "metadata": {
        "id": "Ft3Dx-nF25sH"
      },
      "source": [
        "class CustomSchedule(tf.keras.optimizers.schedules.LearningRateSchedule):\n",
        "  def __init__(self, e_dim, warmup_steps=4000):\n",
        "    super(CustomSchedule, self).__init__()\n",
        "\n",
        "    self.e_dim = tf.cast(e_dim, tf.float32)\n",
        "    self.warmup_steps = warmup_steps\n",
        "  \n",
        "  def __call__(self, step):\n",
        "    arg1 = tf.math.rsqrt(step)\n",
        "    arg2 = step * (self.warmup_steps ** -1.5)\n",
        "    return tf.math.rsqrt(self.e_dim) * tf.math.minimum(arg1, arg2)\n",
        "\n",
        "learning_rate = CustomSchedule(e_dim)\n",
        "optimizer = tf.keras.optimizers.Adam(learning_rate, beta_1=0.9, beta_2=0.98, epsilon=1e-9)"
      ],
      "execution_count": null,
      "outputs": []
    },
    {
      "cell_type": "code",
      "metadata": {
        "id": "T3sRHffP45TL"
      },
      "source": [
        "loss_object = tf.keras.losses.SparseCategoricalCrossentropy(from_logits=True, reduction='none')\n",
        "\n",
        "def loss_function(real, pred):\n",
        "  loss = loss_object(real, pred)\n",
        "  mask = tf.cast(tf.math.logical_not(tf.math.equal(real, padding_value)), dtype=loss.dtype)\n",
        "  loss *= mask\n",
        "  return tf.reduce_sum(loss) / tf.reduce_sum(mask)\n",
        "\n",
        "def accuracy_function(real, pred):\n",
        "  accuracies = tf.equal(real, tf.argmax(pred, axis=2))\n",
        "  mask = tf.math.logical_not(tf.math.equal(real, 0))\n",
        "  accuracies = tf.math.logical_and(mask, accuracies)\n",
        "\n",
        "  accuracies = tf.cast(accuracies, tf.float32)\n",
        "  mask = tf.cast(mask, tf.float32)\n",
        "  return tf.reduce_sum(accuracies) / tf.reduce_sum(mask)\n",
        "\n",
        "train_loss = tf.keras.metrics.Mean(name='train_loss')\n",
        "train_accuracy = tf.keras.metrics.Mean(name='train_accuracy')"
      ],
      "execution_count": null,
      "outputs": []
    },
    {
      "cell_type": "markdown",
      "metadata": {
        "id": "ZydCKb7l2wns"
      },
      "source": [
        "# Eval"
      ]
    },
    {
      "cell_type": "code",
      "metadata": {
        "id": "pXCuViN02yRy"
      },
      "source": [
        "def evaluate(start, max_length=100):\n",
        "  start = tf.convert_to_tensor([sentence])\n",
        "  start = tokenizers.pt.tokenize(sentence).to_tensor()\n",
        "\n",
        "  encoder_input = start\n",
        "\n",
        "  start_token, end_token = [0]\n",
        "  output = tf.convert_to_tensor([start_token])\n",
        "  output = tf.expand_dims(output, 0)\n",
        "\n",
        "  for i in range(max_length):\n",
        "    enc_padding_mask, combined_mask, dec_padding_mask = create_masks(encoder_input, output)\n",
        "    predictions, attn_weights = transformer(encoder_input, output, False, enc_padding_mask, combined_mask, dec_padding_mask)\n",
        "    predictions = predictions[:, -1:, :]\n",
        "    predicted_id = tf.argmax(predictions, axis=-1)\n",
        "    output = tf.concat([output, predicted_id], axis=-1)\n",
        "    if predicted_id == end_token:\n",
        "      break\n",
        "  \n",
        "  text = tokenizers.en.detokenize(output)[0]\n",
        "  tokens = tokenizers.en.lookup(output)[0]\n",
        "\n",
        "  return text, tokens, attn_weights"
      ],
      "execution_count": null,
      "outputs": []
    },
    {
      "cell_type": "markdown",
      "metadata": {
        "id": "GXtO5zzj7ADk"
      },
      "source": [
        "## Training"
      ]
    },
    {
      "cell_type": "code",
      "metadata": {
        "id": "YCT0mI2G5K9o"
      },
      "source": [
        "transformer = Transformer(\n",
        "    vectorize_layer=vectorize_layer,\n",
        "    num_layers=num_layers,\n",
        "    e_dim=e_dim,\n",
        "    num_heads=num_heads,\n",
        "    dff = dff,\n",
        "    input_vocab_size=vocab_size,\n",
        "    target_vocab_size=vocab_size,\n",
        "    pe_input=100,\n",
        "    pe_target=100,\n",
        "    dropout_rate=dropout_rate\n",
        ")"
      ],
      "execution_count": null,
      "outputs": []
    },
    {
      "cell_type": "code",
      "metadata": {
        "id": "Jd92WKF37iPy"
      },
      "source": [
        "def create_masks(inp, tar):\n",
        "  enc_padding_mask = create_padding_mask(inp)\n",
        "  dec_padding_mask = create_padding_mask(inp)\n",
        "\n",
        "  look_ahead_mask = create_look_ahead_mask(tf.shape(tar)[1])\n",
        "  dec_target_padding_mask = create_padding_mask(tar)\n",
        "  combined_mask = tf.maximum(dec_target_padding_mask, look_ahead_mask)\n",
        "\n",
        "  return enc_padding_mask, combined_mask, dec_padding_mask"
      ],
      "execution_count": null,
      "outputs": []
    },
    {
      "cell_type": "code",
      "metadata": {
        "id": "uQXw0miF8LLM"
      },
      "source": [
        "checkpoint_path = \"./checkpoints/train\"\n",
        "ckpt = tf.train.Checkpoint(transformer=transformer, optimizer=optimizer)\n",
        "ckpt_manager = tf.train.CheckpointManager(ckpt, checkpoint_path, max_to_keep=5)\n",
        "\n",
        "if ckpt_manager.latest_checkpoint:\n",
        "  ckpt.restore(ckpt_manager.latest_checkpoint)\n",
        "  print('Latest checkpoint restored!!')"
      ],
      "execution_count": null,
      "outputs": []
    },
    {
      "cell_type": "code",
      "metadata": {
        "id": "pI-HHJOd9LAF"
      },
      "source": [
        "@tf.function()\n",
        "def train_step(inp, tar):\n",
        "  tar_inp = tar[:, :-1]\n",
        "  tar_real = tar[:, 1:]\n",
        "\n",
        "  enc_padding_mask, combined_mask, dec_padding_mask = create_masks(inp, tar_inp)\n",
        "  \n",
        "  with tf.GradientTape() as tape:\n",
        "    predictions, _ = transformer(inp, tar_inp, True, enc_padding_mask, combined_mask, dec_padding_mask)\n",
        "    loss = loss_function(tar_real, predictions)\n",
        "\n",
        "  gradients = tape.gradient(loss, transformer.trainable_weights)\n",
        "  optimizer.apply_gradients(zip(gradients, transformer.trainable_variables))\n",
        "\n",
        "  train_loss(loss)\n",
        "  train_accuracy(accuracy_function(tar_real, predictions))"
      ],
      "execution_count": null,
      "outputs": []
    },
    {
      "cell_type": "code",
      "metadata": {
        "id": "-G6hF7VgMlza"
      },
      "source": [
        "from IPython.display import HTML, display\n",
        "import time\n",
        "\n",
        "def progress(value, max=100):\n",
        "    return HTML(\"\"\"\n",
        "        <progress\n",
        "            value='{value}'\n",
        "            max='{max}',\n",
        "            style='width: 100%'\n",
        "        >\n",
        "            {value}\n",
        "        </progress>\n",
        "    \"\"\".format(value=value, max=max))"
      ],
      "execution_count": null,
      "outputs": []
    },
    {
      "cell_type": "code",
      "metadata": {
        "id": "orDAxZ449E5y",
        "colab": {
          "base_uri": "https://localhost:8080/",
          "height": 1000
        },
        "outputId": "0da6866f-a2b6-42d2-836d-0dd84f7f80a1"
      },
      "source": [
        "EPOCHS = 20\n",
        "\n",
        "for epoch in range(EPOCHS):\n",
        "  start = time.time()\n",
        "  epoch_length = len(train_dataset)\n",
        "  out = display(progress(0, epoch_length), display_id=True)\n",
        "\n",
        "  train_loss.reset_states()\n",
        "  train_accuracy.reset_states()\n",
        "\n",
        "  for (batch, (inp, tar)) in enumerate(train_dataset):\n",
        "    train_step(inp, tar)\n",
        "\n",
        "    if batch % 1 == 0:\n",
        "      print(f'Epoch {epoch + 1}\\tBatch {batch}  \\tLoss {train_loss.result():.4f}\\tAccuracy {train_accuracy.result():.4f}')\n",
        "    \n",
        "    out.update(progress(batch, epoch_length))\n",
        "  \n",
        "  if (epoch + 1) % 5 == 0:\n",
        "    ckpt_save_path = ckpt_manager.save()\n",
        "    print(f'Saving checkpoint for epoch {epoch + 1} at {ckpt_save_path}')\n",
        "\n",
        "  print(f'Epoch {epoch + 1}\\tLoss {train_loss.result():.4f}\\tAccuracy {train_accuracy.result():.4f}')\n",
        "\n",
        "  print(f'Time take for 1 epoch: {time.time() - start:.2f} seconds\\n')"
      ],
      "execution_count": null,
      "outputs": [
        {
          "output_type": "display_data",
          "data": {
            "text/html": [
              "\n",
              "        <progress\n",
              "            value='68'\n",
              "            max='185',\n",
              "            style='width: 100%'\n",
              "        >\n",
              "            68\n",
              "        </progress>\n",
              "    "
            ],
            "text/plain": [
              "<IPython.core.display.HTML object>"
            ]
          },
          "metadata": {}
        },
        {
          "output_type": "stream",
          "text": [
            "Epoch 1\tBatch 0\tLoss 10.6798\tAccuracy 0.0014\n",
            "Epoch 1\tBatch 1\tLoss 10.6776\tAccuracy 0.0007\n",
            "Epoch 1\tBatch 2\tLoss 10.6777\tAccuracy 0.0007\n",
            "Epoch 1\tBatch 3\tLoss 10.6767\tAccuracy 0.0010\n",
            "Epoch 1\tBatch 4\tLoss 10.6772\tAccuracy 0.0008\n",
            "Epoch 1\tBatch 5\tLoss 10.6750\tAccuracy 0.0010\n",
            "Epoch 1\tBatch 6\tLoss 10.6734\tAccuracy 0.0010\n",
            "Epoch 1\tBatch 7\tLoss 10.6725\tAccuracy 0.0010\n",
            "Epoch 1\tBatch 8\tLoss 10.6729\tAccuracy 0.0008\n",
            "Epoch 1\tBatch 9\tLoss 10.6731\tAccuracy 0.0009\n",
            "Epoch 1\tBatch 10\tLoss 10.6715\tAccuracy 0.0013\n",
            "Epoch 1\tBatch 11\tLoss 10.6711\tAccuracy 0.0012\n",
            "Epoch 1\tBatch 12\tLoss 10.6701\tAccuracy 0.0014\n",
            "Epoch 1\tBatch 13\tLoss 10.6695\tAccuracy 0.0014\n",
            "Epoch 1\tBatch 14\tLoss 10.6695\tAccuracy 0.0015\n",
            "Epoch 1\tBatch 15\tLoss 10.6695\tAccuracy 0.0016\n",
            "Epoch 1\tBatch 16\tLoss 10.6697\tAccuracy 0.0018\n",
            "Epoch 1\tBatch 17\tLoss 10.6692\tAccuracy 0.0019\n",
            "Epoch 1\tBatch 18\tLoss 10.6693\tAccuracy 0.0018\n",
            "Epoch 1\tBatch 19\tLoss 10.6682\tAccuracy 0.0019\n",
            "Epoch 1\tBatch 20\tLoss 10.6680\tAccuracy 0.0019\n",
            "Epoch 1\tBatch 21\tLoss 10.6675\tAccuracy 0.0021\n",
            "Epoch 1\tBatch 22\tLoss 10.6672\tAccuracy 0.0022\n",
            "Epoch 1\tBatch 23\tLoss 10.6665\tAccuracy 0.0022\n",
            "Epoch 1\tBatch 24\tLoss 10.6665\tAccuracy 0.0021\n",
            "Epoch 1\tBatch 25\tLoss 10.6663\tAccuracy 0.0021\n",
            "Epoch 1\tBatch 26\tLoss 10.6660\tAccuracy 0.0022\n",
            "Epoch 1\tBatch 27\tLoss 10.6650\tAccuracy 0.0022\n",
            "Epoch 1\tBatch 28\tLoss 10.6645\tAccuracy 0.0022\n",
            "Epoch 1\tBatch 29\tLoss 10.6633\tAccuracy 0.0025\n",
            "Epoch 1\tBatch 30\tLoss 10.6635\tAccuracy 0.0024\n",
            "Epoch 1\tBatch 31\tLoss 10.6628\tAccuracy 0.0025\n",
            "Epoch 1\tBatch 32\tLoss 10.6620\tAccuracy 0.0025\n",
            "Epoch 1\tBatch 33\tLoss 10.6618\tAccuracy 0.0025\n",
            "Epoch 1\tBatch 34\tLoss 10.6612\tAccuracy 0.0026\n",
            "Epoch 1\tBatch 35\tLoss 10.6604\tAccuracy 0.0027\n",
            "Epoch 1\tBatch 36\tLoss 10.6598\tAccuracy 0.0028\n",
            "Epoch 1\tBatch 37\tLoss 10.6586\tAccuracy 0.0032\n",
            "Epoch 1\tBatch 38\tLoss 10.6576\tAccuracy 0.0033\n",
            "Epoch 1\tBatch 39\tLoss 10.6572\tAccuracy 0.0034\n",
            "Epoch 1\tBatch 40\tLoss 10.6567\tAccuracy 0.0034\n",
            "Epoch 1\tBatch 41\tLoss 10.6554\tAccuracy 0.0036\n",
            "Epoch 1\tBatch 42\tLoss 10.6553\tAccuracy 0.0036\n",
            "Epoch 1\tBatch 43\tLoss 10.6544\tAccuracy 0.0035\n",
            "Epoch 1\tBatch 44\tLoss 10.6539\tAccuracy 0.0035\n",
            "Epoch 1\tBatch 45\tLoss 10.6537\tAccuracy 0.0034\n",
            "Epoch 1\tBatch 46\tLoss 10.6533\tAccuracy 0.0034\n",
            "Epoch 1\tBatch 47\tLoss 10.6527\tAccuracy 0.0033\n",
            "Epoch 1\tBatch 48\tLoss 10.6520\tAccuracy 0.0033\n",
            "Epoch 1\tBatch 49\tLoss 10.6523\tAccuracy 0.0034\n",
            "Epoch 1\tBatch 50\tLoss 10.6514\tAccuracy 0.0034\n",
            "Epoch 1\tBatch 51\tLoss 10.6503\tAccuracy 0.0035\n",
            "Epoch 1\tBatch 52\tLoss 10.6497\tAccuracy 0.0035\n",
            "Epoch 1\tBatch 53\tLoss 10.6497\tAccuracy 0.0034\n",
            "Epoch 1\tBatch 54\tLoss 10.6487\tAccuracy 0.0037\n",
            "Epoch 1\tBatch 55\tLoss 10.6485\tAccuracy 0.0036\n",
            "Epoch 1\tBatch 56\tLoss 10.6480\tAccuracy 0.0036\n",
            "Epoch 1\tBatch 57\tLoss 10.6475\tAccuracy 0.0037\n",
            "Epoch 1\tBatch 58\tLoss 10.6471\tAccuracy 0.0037\n",
            "Epoch 1\tBatch 59\tLoss 10.6465\tAccuracy 0.0037\n",
            "Epoch 1\tBatch 60\tLoss 10.6465\tAccuracy 0.0036\n",
            "Epoch 1\tBatch 61\tLoss 10.6464\tAccuracy 0.0036\n",
            "Epoch 1\tBatch 62\tLoss 10.6454\tAccuracy 0.0035\n",
            "Epoch 1\tBatch 63\tLoss 10.6453\tAccuracy 0.0035\n",
            "Epoch 1\tBatch 64\tLoss 10.6452\tAccuracy 0.0035\n",
            "Epoch 1\tBatch 65\tLoss 10.6446\tAccuracy 0.0036\n",
            "Epoch 1\tBatch 66\tLoss 10.6441\tAccuracy 0.0035\n",
            "Epoch 1\tBatch 67\tLoss 10.6431\tAccuracy 0.0035\n",
            "Epoch 1\tBatch 68\tLoss 10.6425\tAccuracy 0.0035\n"
          ],
          "name": "stdout"
        },
        {
          "output_type": "error",
          "ename": "InvalidArgumentError",
          "evalue": "ignored",
          "traceback": [
            "\u001b[0;31m---------------------------------------------------------------------------\u001b[0m",
            "\u001b[0;31mInvalidArgumentError\u001b[0m                      Traceback (most recent call last)",
            "\u001b[0;32m<ipython-input-235-6af5b5d08399>\u001b[0m in \u001b[0;36m<module>\u001b[0;34m()\u001b[0m\n\u001b[1;32m     10\u001b[0m \u001b[0;34m\u001b[0m\u001b[0m\n\u001b[1;32m     11\u001b[0m   \u001b[0;32mfor\u001b[0m \u001b[0;34m(\u001b[0m\u001b[0mbatch\u001b[0m\u001b[0;34m,\u001b[0m \u001b[0;34m(\u001b[0m\u001b[0minp\u001b[0m\u001b[0;34m,\u001b[0m \u001b[0mtar\u001b[0m\u001b[0;34m)\u001b[0m\u001b[0;34m)\u001b[0m \u001b[0;32min\u001b[0m \u001b[0menumerate\u001b[0m\u001b[0;34m(\u001b[0m\u001b[0mtrain_dataset\u001b[0m\u001b[0;34m)\u001b[0m\u001b[0;34m:\u001b[0m\u001b[0;34m\u001b[0m\u001b[0;34m\u001b[0m\u001b[0m\n\u001b[0;32m---> 12\u001b[0;31m     \u001b[0mtrain_step\u001b[0m\u001b[0;34m(\u001b[0m\u001b[0minp\u001b[0m\u001b[0;34m,\u001b[0m \u001b[0mtar\u001b[0m\u001b[0;34m)\u001b[0m\u001b[0;34m\u001b[0m\u001b[0;34m\u001b[0m\u001b[0m\n\u001b[0m\u001b[1;32m     13\u001b[0m \u001b[0;34m\u001b[0m\u001b[0m\n\u001b[1;32m     14\u001b[0m     \u001b[0;32mif\u001b[0m \u001b[0mbatch\u001b[0m \u001b[0;34m%\u001b[0m \u001b[0;36m1\u001b[0m \u001b[0;34m==\u001b[0m \u001b[0;36m0\u001b[0m\u001b[0;34m:\u001b[0m\u001b[0;34m\u001b[0m\u001b[0;34m\u001b[0m\u001b[0m\n",
            "\u001b[0;32m/usr/local/lib/python3.7/dist-packages/tensorflow/python/eager/def_function.py\u001b[0m in \u001b[0;36m__call__\u001b[0;34m(self, *args, **kwds)\u001b[0m\n\u001b[1;32m    883\u001b[0m \u001b[0;34m\u001b[0m\u001b[0m\n\u001b[1;32m    884\u001b[0m       \u001b[0;32mwith\u001b[0m \u001b[0mOptionalXlaContext\u001b[0m\u001b[0;34m(\u001b[0m\u001b[0mself\u001b[0m\u001b[0;34m.\u001b[0m\u001b[0m_jit_compile\u001b[0m\u001b[0;34m)\u001b[0m\u001b[0;34m:\u001b[0m\u001b[0;34m\u001b[0m\u001b[0;34m\u001b[0m\u001b[0m\n\u001b[0;32m--> 885\u001b[0;31m         \u001b[0mresult\u001b[0m \u001b[0;34m=\u001b[0m \u001b[0mself\u001b[0m\u001b[0;34m.\u001b[0m\u001b[0m_call\u001b[0m\u001b[0;34m(\u001b[0m\u001b[0;34m*\u001b[0m\u001b[0margs\u001b[0m\u001b[0;34m,\u001b[0m \u001b[0;34m**\u001b[0m\u001b[0mkwds\u001b[0m\u001b[0;34m)\u001b[0m\u001b[0;34m\u001b[0m\u001b[0;34m\u001b[0m\u001b[0m\n\u001b[0m\u001b[1;32m    886\u001b[0m \u001b[0;34m\u001b[0m\u001b[0m\n\u001b[1;32m    887\u001b[0m       \u001b[0mnew_tracing_count\u001b[0m \u001b[0;34m=\u001b[0m \u001b[0mself\u001b[0m\u001b[0;34m.\u001b[0m\u001b[0mexperimental_get_tracing_count\u001b[0m\u001b[0;34m(\u001b[0m\u001b[0;34m)\u001b[0m\u001b[0;34m\u001b[0m\u001b[0;34m\u001b[0m\u001b[0m\n",
            "\u001b[0;32m/usr/local/lib/python3.7/dist-packages/tensorflow/python/eager/def_function.py\u001b[0m in \u001b[0;36m_call\u001b[0;34m(self, *args, **kwds)\u001b[0m\n\u001b[1;32m    915\u001b[0m       \u001b[0;31m# In this case we have created variables on the first call, so we run the\u001b[0m\u001b[0;34m\u001b[0m\u001b[0;34m\u001b[0m\u001b[0;34m\u001b[0m\u001b[0m\n\u001b[1;32m    916\u001b[0m       \u001b[0;31m# defunned version which is guaranteed to never create variables.\u001b[0m\u001b[0;34m\u001b[0m\u001b[0;34m\u001b[0m\u001b[0;34m\u001b[0m\u001b[0m\n\u001b[0;32m--> 917\u001b[0;31m       \u001b[0;32mreturn\u001b[0m \u001b[0mself\u001b[0m\u001b[0;34m.\u001b[0m\u001b[0m_stateless_fn\u001b[0m\u001b[0;34m(\u001b[0m\u001b[0;34m*\u001b[0m\u001b[0margs\u001b[0m\u001b[0;34m,\u001b[0m \u001b[0;34m**\u001b[0m\u001b[0mkwds\u001b[0m\u001b[0;34m)\u001b[0m  \u001b[0;31m# pylint: disable=not-callable\u001b[0m\u001b[0;34m\u001b[0m\u001b[0;34m\u001b[0m\u001b[0m\n\u001b[0m\u001b[1;32m    918\u001b[0m     \u001b[0;32melif\u001b[0m \u001b[0mself\u001b[0m\u001b[0;34m.\u001b[0m\u001b[0m_stateful_fn\u001b[0m \u001b[0;32mis\u001b[0m \u001b[0;32mnot\u001b[0m \u001b[0;32mNone\u001b[0m\u001b[0;34m:\u001b[0m\u001b[0;34m\u001b[0m\u001b[0;34m\u001b[0m\u001b[0m\n\u001b[1;32m    919\u001b[0m       \u001b[0;31m# Release the lock early so that multiple threads can perform the call\u001b[0m\u001b[0;34m\u001b[0m\u001b[0;34m\u001b[0m\u001b[0;34m\u001b[0m\u001b[0m\n",
            "\u001b[0;32m/usr/local/lib/python3.7/dist-packages/tensorflow/python/eager/function.py\u001b[0m in \u001b[0;36m__call__\u001b[0;34m(self, *args, **kwargs)\u001b[0m\n\u001b[1;32m   3038\u001b[0m        filtered_flat_args) = self._maybe_define_function(args, kwargs)\n\u001b[1;32m   3039\u001b[0m     return graph_function._call_flat(\n\u001b[0;32m-> 3040\u001b[0;31m         filtered_flat_args, captured_inputs=graph_function.captured_inputs)  # pylint: disable=protected-access\n\u001b[0m\u001b[1;32m   3041\u001b[0m \u001b[0;34m\u001b[0m\u001b[0m\n\u001b[1;32m   3042\u001b[0m   \u001b[0;34m@\u001b[0m\u001b[0mproperty\u001b[0m\u001b[0;34m\u001b[0m\u001b[0;34m\u001b[0m\u001b[0m\n",
            "\u001b[0;32m/usr/local/lib/python3.7/dist-packages/tensorflow/python/eager/function.py\u001b[0m in \u001b[0;36m_call_flat\u001b[0;34m(self, args, captured_inputs, cancellation_manager)\u001b[0m\n\u001b[1;32m   1962\u001b[0m       \u001b[0;31m# No tape is watching; skip to running the function.\u001b[0m\u001b[0;34m\u001b[0m\u001b[0;34m\u001b[0m\u001b[0;34m\u001b[0m\u001b[0m\n\u001b[1;32m   1963\u001b[0m       return self._build_call_outputs(self._inference_function.call(\n\u001b[0;32m-> 1964\u001b[0;31m           ctx, args, cancellation_manager=cancellation_manager))\n\u001b[0m\u001b[1;32m   1965\u001b[0m     forward_backward = self._select_forward_and_backward_functions(\n\u001b[1;32m   1966\u001b[0m         \u001b[0margs\u001b[0m\u001b[0;34m,\u001b[0m\u001b[0;34m\u001b[0m\u001b[0;34m\u001b[0m\u001b[0m\n",
            "\u001b[0;32m/usr/local/lib/python3.7/dist-packages/tensorflow/python/eager/function.py\u001b[0m in \u001b[0;36mcall\u001b[0;34m(self, ctx, args, cancellation_manager)\u001b[0m\n\u001b[1;32m    594\u001b[0m               \u001b[0minputs\u001b[0m\u001b[0;34m=\u001b[0m\u001b[0margs\u001b[0m\u001b[0;34m,\u001b[0m\u001b[0;34m\u001b[0m\u001b[0;34m\u001b[0m\u001b[0m\n\u001b[1;32m    595\u001b[0m               \u001b[0mattrs\u001b[0m\u001b[0;34m=\u001b[0m\u001b[0mattrs\u001b[0m\u001b[0;34m,\u001b[0m\u001b[0;34m\u001b[0m\u001b[0;34m\u001b[0m\u001b[0m\n\u001b[0;32m--> 596\u001b[0;31m               ctx=ctx)\n\u001b[0m\u001b[1;32m    597\u001b[0m         \u001b[0;32melse\u001b[0m\u001b[0;34m:\u001b[0m\u001b[0;34m\u001b[0m\u001b[0;34m\u001b[0m\u001b[0m\n\u001b[1;32m    598\u001b[0m           outputs = execute.execute_with_cancellation(\n",
            "\u001b[0;32m/usr/local/lib/python3.7/dist-packages/tensorflow/python/eager/execute.py\u001b[0m in \u001b[0;36mquick_execute\u001b[0;34m(op_name, num_outputs, inputs, attrs, ctx, name)\u001b[0m\n\u001b[1;32m     58\u001b[0m     \u001b[0mctx\u001b[0m\u001b[0;34m.\u001b[0m\u001b[0mensure_initialized\u001b[0m\u001b[0;34m(\u001b[0m\u001b[0;34m)\u001b[0m\u001b[0;34m\u001b[0m\u001b[0;34m\u001b[0m\u001b[0m\n\u001b[1;32m     59\u001b[0m     tensors = pywrap_tfe.TFE_Py_Execute(ctx._handle, device_name, op_name,\n\u001b[0;32m---> 60\u001b[0;31m                                         inputs, attrs, num_outputs)\n\u001b[0m\u001b[1;32m     61\u001b[0m   \u001b[0;32mexcept\u001b[0m \u001b[0mcore\u001b[0m\u001b[0;34m.\u001b[0m\u001b[0m_NotOkStatusException\u001b[0m \u001b[0;32mas\u001b[0m \u001b[0me\u001b[0m\u001b[0;34m:\u001b[0m\u001b[0;34m\u001b[0m\u001b[0;34m\u001b[0m\u001b[0m\n\u001b[1;32m     62\u001b[0m     \u001b[0;32mif\u001b[0m \u001b[0mname\u001b[0m \u001b[0;32mis\u001b[0m \u001b[0;32mnot\u001b[0m \u001b[0;32mNone\u001b[0m\u001b[0;34m:\u001b[0m\u001b[0;34m\u001b[0m\u001b[0;34m\u001b[0m\u001b[0m\n",
            "\u001b[0;31mInvalidArgumentError\u001b[0m:  indices[5,12] = 44062 is not in [0, 44062)\n\t [[node transformer_11/encoder_11/embedding_22/embedding_lookup (defined at <ipython-input-26-49f449ea0144>:17) ]] [Op:__inference_train_step_44389]\n\nErrors may have originated from an input operation.\nInput Source operations connected to node transformer_11/encoder_11/embedding_22/embedding_lookup:\n transformer_11/encoder_11/embedding_22/embedding_lookup/39852 (defined at /usr/lib/python3.7/contextlib.py:112)\t\n inp (defined at <ipython-input-234-18c5e2e6a45e>:12)\n\nFunction call stack:\ntrain_step\n"
          ]
        }
      ]
    },
    {
      "cell_type": "code",
      "metadata": {
        "id": "auZloxCUDiin"
      },
      "source": [
        ""
      ],
      "execution_count": null,
      "outputs": []
    }
  ]
}